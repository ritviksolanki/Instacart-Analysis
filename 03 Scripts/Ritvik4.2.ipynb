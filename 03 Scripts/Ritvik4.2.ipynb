{
 "cells": [
  {
   "cell_type": "markdown",
   "id": "b0a525e7",
   "metadata": {},
   "source": [
    "# Importing Libraries"
   ]
  },
  {
   "cell_type": "code",
   "execution_count": 1,
   "id": "9d16678e",
   "metadata": {},
   "outputs": [],
   "source": [
    "#Import libraries"
   ]
  },
  {
   "cell_type": "code",
   "execution_count": 2,
   "id": "4369eb00",
   "metadata": {},
   "outputs": [],
   "source": [
    "import pandas as pd\n",
    "import numpy as np\n",
    "import os"
   ]
  },
  {
   "cell_type": "markdown",
   "id": "eccc7aac",
   "metadata": {},
   "source": [
    "# Python Data Types"
   ]
  },
  {
   "cell_type": "code",
   "execution_count": 5,
   "id": "09969d01",
   "metadata": {},
   "outputs": [],
   "source": [
    "# i am assigning the value 50 to variable a.\n",
    "a=50"
   ]
  },
  {
   "cell_type": "code",
   "execution_count": 6,
   "id": "16cc19aa",
   "metadata": {},
   "outputs": [],
   "source": [
    "# i am assigning the value 50 to variable b\n",
    "b=50"
   ]
  },
  {
   "cell_type": "code",
   "execution_count": 8,
   "id": "2dd8155e",
   "metadata": {},
   "outputs": [],
   "source": [
    "#i am assigning the value 100 to variable c \n",
    "c=100"
   ]
  },
  {
   "cell_type": "code",
   "execution_count": 15,
   "id": "1e5ed38e",
   "metadata": {},
   "outputs": [],
   "source": [
    "#i am assigning the value 200 to the variable d\n",
    "d=200"
   ]
  },
  {
   "cell_type": "code",
   "execution_count": 11,
   "id": "65ec5dab",
   "metadata": {},
   "outputs": [
    {
     "data": {
      "text/plain": [
       "100"
      ]
     },
     "execution_count": 11,
     "metadata": {},
     "output_type": "execute_result"
    }
   ],
   "source": [
    "# i am adding values a and b to get 100\n",
    "a+b"
   ]
  },
  {
   "cell_type": "code",
   "execution_count": 16,
   "id": "36347db6",
   "metadata": {},
   "outputs": [
    {
     "data": {
      "text/plain": [
       "100"
      ]
     },
     "execution_count": 16,
     "metadata": {},
     "output_type": "execute_result"
    }
   ],
   "source": [
    "# i am subtracting c from d to get value of 100\n",
    "d-c"
   ]
  },
  {
   "cell_type": "code",
   "execution_count": 17,
   "id": "4d88a59d",
   "metadata": {},
   "outputs": [
    {
     "data": {
      "text/plain": [
       "100"
      ]
     },
     "execution_count": 17,
     "metadata": {},
     "output_type": "execute_result"
    }
   ],
   "source": [
    "#i am adding and subtracting 3 values to get a value of 100.\n",
    "d-(a+b)"
   ]
  },
  {
   "cell_type": "code",
   "execution_count": 18,
   "id": "e1502666",
   "metadata": {},
   "outputs": [],
   "source": [
    "# i chose 2.05 as value for a\n",
    "a=2.05"
   ]
  },
  {
   "cell_type": "code",
   "execution_count": 19,
   "id": "44e4e15a",
   "metadata": {},
   "outputs": [],
   "source": [
    "# i chose 14.56 as value for b.\n",
    "b=14.56"
   ]
  },
  {
   "cell_type": "code",
   "execution_count": 20,
   "id": "6c0bd13f",
   "metadata": {},
   "outputs": [
    {
     "data": {
      "text/plain": [
       "7.102439024390245"
      ]
     },
     "execution_count": 20,
     "metadata": {},
     "output_type": "execute_result"
    }
   ],
   "source": [
    "# i am dividing a from b to see the result of floating point.\n",
    "b/a"
   ]
  },
  {
   "cell_type": "code",
   "execution_count": 23,
   "id": "26cce93f",
   "metadata": {},
   "outputs": [],
   "source": [
    "# first part of a word\n",
    "a='make'"
   ]
  },
  {
   "cell_type": "code",
   "execution_count": 24,
   "id": "c358a570",
   "metadata": {},
   "outputs": [],
   "source": [
    "# second part of a word\n",
    "b='over'"
   ]
  },
  {
   "cell_type": "code",
   "execution_count": 25,
   "id": "ec06427b",
   "metadata": {},
   "outputs": [
    {
     "data": {
      "text/plain": [
       "'makeover'"
      ]
     },
     "execution_count": 25,
     "metadata": {},
     "output_type": "execute_result"
    }
   ],
   "source": [
    "a+b"
   ]
  },
  {
   "cell_type": "code",
   "execution_count": 29,
   "id": "d67012ae",
   "metadata": {},
   "outputs": [],
   "source": [
    "# first part of a sentence.\n",
    "a='how are you '"
   ]
  },
  {
   "cell_type": "code",
   "execution_count": 30,
   "id": "384895fd",
   "metadata": {},
   "outputs": [],
   "source": [
    "# second part of a sentence \n",
    "b='doing today?'"
   ]
  },
  {
   "cell_type": "code",
   "execution_count": 32,
   "id": "a26cb306",
   "metadata": {},
   "outputs": [
    {
     "data": {
      "text/plain": [
       "'how are you doing today?'"
      ]
     },
     "execution_count": 32,
     "metadata": {},
     "output_type": "execute_result"
    }
   ],
   "source": [
    "# my whole sentence \n",
    "a+b"
   ]
  },
  {
   "cell_type": "code",
   "execution_count": 33,
   "id": "13f5be7b",
   "metadata": {},
   "outputs": [],
   "source": [
    "# using a word for variable a.\n",
    "a='paragraph'"
   ]
  },
  {
   "cell_type": "code",
   "execution_count": 35,
   "id": "f613831b",
   "metadata": {},
   "outputs": [
    {
     "data": {
      "text/plain": [
       "'paragraphparagraphparagraphparagraphparagraphparagraphparagraphparagraphparagraphparagraphparagraphparagraphparagraphparagraphparagraphparagraphparagraphparagraphparagraphparagraphparagraphparagraphparagraphparagraphparagraphparagraphparagraphparagraphparagraphparagraphparagraphparagraphparagraphparagraphparagraphparagraphparagraphparagraphparagraphparagraphparagraphparagraphparagraphparagraphparagraphparagraphparagraphparagraphparagraphparagraphparagraphparagraphparagraphparagraphparagraphparagraphparagraphparagraphparagraphparagraphparagraphparagraphparagraphparagraphparagraphparagraphparagraphparagraphparagraphparagraphparagraphparagraphparagraphparagraphparagraphparagraphparagraphparagraphparagraphparagraphparagraphparagraphparagraphparagraphparagraphparagraphparagraphparagraphparagraphparagraphparagraphparagraphparagraphparagraphparagraphparagraphparagraphparagraphparagraphparagraph'"
      ]
     },
     "execution_count": 35,
     "metadata": {},
     "output_type": "execute_result"
    }
   ],
   "source": [
    "# multiplying by 100.\n",
    "a*100"
   ]
  },
  {
   "cell_type": "code",
   "execution_count": null,
   "id": "46e21658",
   "metadata": {},
   "outputs": [],
   "source": []
  }
 ],
 "metadata": {
  "kernelspec": {
   "display_name": "Python 3 (ipykernel)",
   "language": "python",
   "name": "python3"
  },
  "language_info": {
   "codemirror_mode": {
    "name": "ipython",
    "version": 3
   },
   "file_extension": ".py",
   "mimetype": "text/x-python",
   "name": "python",
   "nbconvert_exporter": "python",
   "pygments_lexer": "ipython3",
   "version": "3.11.3"
  }
 },
 "nbformat": 4,
 "nbformat_minor": 5
}
